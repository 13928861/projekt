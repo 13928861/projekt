{
 "cells": [
  {
   "cell_type": "markdown",
   "metadata": {},
   "source": [
    "<div style=\"display: flex; justify-content: center; align-items: center;\">\n",
    "    <img src=\"lala9.png\" alt=\"lala\" style=\"width:900px; height:220px;\">\n",
    "</div>\n",
    "\n",
    "\n",
    "\n"
   ]
  },
  {
   "cell_type": "markdown",
   "metadata": {},
   "source": [
    "<img src=\"ola10.png\" alt=\"ola\" style=\"width:180px; height:38px;\">\n",
    "\n",
    "<span style=\"font-size:18px; font-family: 'Georgia',font-weight: bold, color:LightGray\">W tym projekcie omówimy Newtonowski model gwiazdy. Zagadnienie napotykane w astrofizyce, dziedzinie nauki z pogranicza fizyki i astronomii, badajcej m.in. ciała niebieskie, <br>ich budowę oraz procesy fizyczne. Jest to tematyka szczególnie dla nas ciekawa, ponieważ pozwala poszerzyć wiedzę na temat wszechświata, który skrywa wiele, być może nieznanych nam przedtem, zjawisk oraz procesów. W dużej mierze skupimy się na matematycznej części omawianego przez nas zagadnienia oraz przedstawimy równania, a także kwestie teoretyczne, które posłużą w dokładniejszym przeanalizowaniu modelu gwiazd Newtonowskich. Naszym celem jest jasne oraz przejrzyste zapoznanie z tematem projektu, a także zaprezentowanie zaimplementowanych przez nas algorytmów. Odniesiemy się również do równania Lane'a-Emdena, nazwanego na cześć astrofizyków, Jonathana Lane'a oraz Roberta Emdena. Jako pierwszy równanie to zaprezentował Lane w badaniach na temat wewnętrznej struktury gwiazdy w 1870 roku. </span>\n"
   ]
  },
  {
   "cell_type": "markdown",
   "metadata": {},
   "source": [
    "<img src=\"ola9.png\" alt=\"ola\" style=\"width:390px; height:60px;\">\n",
    "\n",
    "<span style=\"font-size:18px; font-family: 'Georgia',font-weight: bold, color:LightGray\">W naszym projekcie wielekrotnie pojawi się pojęcie gwiazdy, a więc zaczniemy od przybliżenia jej definicji.<div class=\"alert alert-block alert-warning\">\n",
    "<b>Gwiazda:</b> powstaje w wyniku równowagi pomiędzy siłą grawitacyjną, która dąży do ściskania materii, a jednocześnie siłą ciśnienia gazu, która stara się zapobiec jej zapadaniu i kolapsowi. Termin \"kolaps\" odnosi się do procesu gromadzenia się materii pod wpływem grawitacji, prowadzącego do skompresowania substancji w bardziej zwarte struktury. Na podstawie badań potraktujemu ją w dalszej części jako statyczny, sferyczny i symetrycznymodel płynów doskonałych w grawitacji.\n",
    "</div> </span>"
   ]
  },
  {
   "cell_type": "markdown",
   "metadata": {},
   "source": [
    "<div style=\"text-align:center; font-size:24px; font-family:'Georgia'; font-weight:bold; color:PeachPuff;\">\n",
    "    Model Newtona gwiazdy (wprowadzenie)\n",
    "</div>\n",
    "\n",
    "<br><span style=\"font-size:18px; font-family: 'Georgia',font-weight: bold, color:LightGray\">Przedstawimy początkowe kroki, które doprowadzą nas do ***równań gwiazdy newtonowskiej***. <br> Masa zawarta w kuli gazu o promieniu r wywiera grawitacyjne oddziaływanie:\n",
    " </span>\n",
    "\n",
    "\n"
   ]
  },
  {
   "cell_type": "markdown",
   "metadata": {},
   "source": [
    "$$\n",
    "\\begin{equation}\n",
    "   m(r) = 4\\pi\\int_{0}^{r}{{r'}^2\\,{dr}'\\,\\rho(r')} \\notag\n",
    "\\end{equation}\n",
    "$$\n",
    "<span style=\"color:PeachPuff\" > \n",
    "<ul> \n",
    "<li>m ➥ masa kuli</li>\n",
    "<li> r ➥ promień kuli</li>\n",
    "<li> ρ ➥ gęstość</li>\n",
    "</ul> </span>\n"
   ]
  },
  {
   "cell_type": "markdown",
   "metadata": {},
   "source": [
    "<span style=\"font-size:18px; font-family: 'Georgia',font-weight: bold, color:LightGray\">Zaś masa ta będzie stanowić źródło przyśpieszenia grawitacyjnego:\n",
    "</span> \n",
    "$$\n",
    "\\begin{equation}\n",
    "   g(r) = G_N{\\frac{m(r)}{r^2}} \\notag\n",
    "\\end{equation}\n",
    "$$\n",
    "<span style=\"color:PeachPuff\" > g ➥ przyśpieszenie grawitacyjne\n",
    "<br> $G_N$➥ stała grawitacyjna</span>\n",
    "<br><br><span>Na podstawie przyjętego wyżej założenie o symetrycznym modelu gwiazdy, przedstawimy ją jako wycinek sfery:\n",
    ">$dV=Sdr$, gdzie na mały element masy\n",
    ">> $dm = \\rho (r)dV=\\rho (r)Sdr$ , zadziała siła grawitacji i siła zachodząca na skutek różnicy ciśnień:\n",
    ">>>$δF=g(r)dm=g(r)ρ(r)Sdr$ ➥ równanie opisujące przyrost siły grawitacyjnej wynikającej z przyrostu masy <br>\n",
    "$δF=F(r+dr)−F(r)=SdP$  ➥ równanie opisujące przyrost siły wywieranej przez zmianę ciśnienia </span>\n",
    "\n",
    "<span style=\"color:PeachPuff\"> \n",
    "<ul> \n",
    "<li>δF ➥ przyrost siły</li>\n",
    "<li>S ➥ powierzchnia</li>\n",
    "<li>dP➥ przyrost ciśnienia na powierzchni</li>\n",
    "</ul> </span>"
   ]
  },
  {
   "cell_type": "markdown",
   "metadata": {},
   "source": [
    "<span style=\"font-size:18px; font-family: 'Georgia',font-weight: bold, color:LightGray\">Na podstawie powyższych równań otrzymujemy równania Newtonowskiej gwiazdy na bazie, kórych przeprowadzimy obliczenia i analizę naszego tematu. Uwzględniając warunki początkowe uzyskalibyśmy <em style=\"color:PeachPuff\"> układ równań różniczkowych</em>.\n",
    "</span><br>\n",
    "$\n",
    "\\begin{equation}\n",
    "{\\frac {dP}{dr}}=-G_{N}{\\frac {m(r)\\rho (r)}{r^{2}}} \\tag{1}\n",
    "\\end{equation}\n",
    "$\n",
    "$\n",
    "\\begin{equation}\n",
    "{\\frac {dm}{dr}}=4\\pi \\rho (r)r^{2} \\tag{2}\n",
    "\\end{equation}\n",
    "$\n",
    "\n"
   ]
  },
  {
   "cell_type": "markdown",
   "metadata": {},
   "source": [
    "<span style=\"font-size:18px; font-family: 'Georgia',font-weight: bold, color:LightGray\"> Do lepszej charakterystyki naszego projektu potrzebujemy wprowadzić jeszcze pare pojęć:\n",
    "</span>\n",
    "\n",
    "<span style=\"color:PeachPuff\"> \n",
    "<ul> \n",
    "<li>równanie stanu ➥ to matematyczne pojęcie opisujące związek między różnymi zmiennymi stanu, w kontekście fizycznym gazu czy cieczy jest to zależność między zmiennymi takimi np: cieśnienie, czy temperatura. Możemy też mówić o zależności ciśnienia od odległości od środka gwiazdy. </li>\n",
    "<li>Na podstawie gęstości i temperatury określa się ciśnienie panujące w plazmie/gazie, gdzie plazma jest zjonizowaną materią, przypominającą w stanie skupienie gaz.\n",
    "</ul></span> <br>\n",
    "<span style=\"font-size:18px; font-family: 'Georgia',font-weight: bold, color:LightGray\"> W wielu artykułach na temat modeli gwiazd Newtonowskich możemy spotkać się z pojęciem <em style=\"color:PeachPuff\"> politropu</em>. Politropowe równania stanu są szczególnie ważne w przypadku modeli,<br>gdzie p=p(ρ) (p- ciśnienie, ρ- gęstość ). Przykładowe równanie stanu politropy znajdziemy postaci:<em style=\"color:PeachPuff\"> p=Kρ1+1/n</em>. Politropy stosowane są m.in. do ograniczenia rozwiązań numerycznych, oszacowania właściwości fizycznych, a także dopuszczają maksymalną liczbę symetrii skali, gdzie symetrie te pozwalają wprowadzić specjalne zmienne.<br>Pozwalają one zdredukować problem do dwóch sprzężonych równań różniczkowych zwyczajnych pierwszego rzędu. <br>\n",
    "Politropy stanowią jednak idealizacje, więc dla bardziej prawdziwcyh modeli gwiazd, stosuje się bardziej ogólne barotropowe równania stanu. </span> \n"
   ]
  },
  {
   "cell_type": "markdown",
   "metadata": {},
   "source": [
    "<span style=\"font-size:18px; font-family: 'Georgia',font-weight: bold, color:LightGray\">Przybliżmy jeszcze po krótce czym jest ***równanie Lane'a-Emdena***<br>\n",
    "➥ jest to bezwymiarowa forma równania Poissona dla politropowego oraz sferycznie symetrycznego płynu Newtona.<br>Jak wspomnieliśmy powyżej, nazwa powstała na cześć dwóch astrofizyków, Jonathana Lane'a i Roberta Emdena.</span>"
   ]
  },
  {
   "cell_type": "markdown",
   "metadata": {},
   "source": [
    "<img src=\"zdj1.png\" alt=\"ola\" style=\"width:190px; height:45px;\">"
   ]
  },
  {
   "cell_type": "markdown",
   "metadata": {},
   "source": []
  },
  {
   "cell_type": "markdown",
   "metadata": {},
   "source": [
    "<img src=\"zdj2.png\" alt=\"ola\" style=\"width:355px; height:53px;\">"
   ]
  },
  {
   "cell_type": "markdown",
   "metadata": {},
   "source": []
  },
  {
   "cell_type": "markdown",
   "metadata": {},
   "source": [
    "<img src=\"zdj3.png\" alt=\"ola\" style=\"width:200px; height:45px;\">"
   ]
  },
  {
   "cell_type": "markdown",
   "metadata": {},
   "source": []
  }
 ],
 "metadata": {
  "language_info": {
   "name": "python"
  }
 },
 "nbformat": 4,
 "nbformat_minor": 2
}
